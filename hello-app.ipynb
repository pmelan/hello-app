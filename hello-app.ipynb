{
 "cells": [
  {
   "cell_type": "code",
   "execution_count": 1,
   "metadata": {},
   "outputs": [],
   "source": [
    "import streamlit as st\n",
    "import pandas as pd\n",
    "import altair as alt\n",
    "import plotly.express as px"
   ]
  },
  {
   "cell_type": "code",
   "execution_count": 2,
   "metadata": {},
   "outputs": [
    {
     "data": {
      "text/plain": [
       "ThemeRegistry.enable('dark')"
      ]
     },
     "execution_count": 2,
     "metadata": {},
     "output_type": "execute_result"
    }
   ],
   "source": [
    "st.set_page_config(\n",
    "    page_title=\"US Population Dashboard\",\n",
    "    page_icon=\"🏂\",\n",
    "    layout=\"wide\",\n",
    "    initial_sidebar_state=\"expanded\")\n",
    "\n",
    "alt.themes.enable(\"dark\")"
   ]
  },
  {
   "cell_type": "code",
   "execution_count": 7,
   "metadata": {},
   "outputs": [],
   "source": [
    "df_reshaped = pd.read_csv('us-population-2010-2019-reshaped.csv')\n",
    "\n"
   ]
  },
  {
   "cell_type": "code",
   "execution_count": 8,
   "metadata": {},
   "outputs": [],
   "source": [
    "with st.sidebar:\n",
    "    st.title('🏂 US Population Dashboard')\n",
    "    \n",
    "    year_list = list(df_reshaped.year.unique())[::-1]\n",
    "    \n",
    "    selected_year = st.selectbox('Select a year', year_list, index=len(year_list)-1)\n",
    "    df_selected_year = df_reshaped[df_reshaped.year == selected_year]\n",
    "    df_selected_year_sorted = df_selected_year.sort_values(by=\"population\", ascending=False)\n",
    "\n",
    "    color_theme_list = ['blues', 'cividis', 'greens', 'inferno', 'magma', 'plasma', 'reds', 'rainbow', 'turbo', 'viridis']\n",
    "    selected_color_theme = st.selectbox('Select a color theme', color_theme_list)"
   ]
  },
  {
   "cell_type": "code",
   "execution_count": 9,
   "metadata": {},
   "outputs": [],
   "source": [
    "def make_heatmap(input_df, input_y, input_x, input_color, input_color_theme):\n",
    "    heatmap = alt.Chart(input_df).mark_rect().encode(\n",
    "            y=alt.Y(f'{input_y}:O', axis=alt.Axis(title=\"Year\", titleFontSize=18, titlePadding=15, titleFontWeight=900, labelAngle=0)),\n",
    "            x=alt.X(f'{input_x}:O', axis=alt.Axis(title=\"\", titleFontSize=18, titlePadding=15, titleFontWeight=900)),\n",
    "            color=alt.Color(f'max({input_color}):Q',\n",
    "                             legend=None,\n",
    "                             scale=alt.Scale(scheme=input_color_theme)),\n",
    "            stroke=alt.value('black'),\n",
    "            strokeWidth=alt.value(0.25),\n",
    "        ).properties(width=900\n",
    "        ).configure_axis(\n",
    "        labelFontSize=12,\n",
    "        titleFontSize=12\n",
    "        ) \n",
    "    # height=300\n",
    "    return heatmap"
   ]
  },
  {
   "cell_type": "code",
   "execution_count": 10,
   "metadata": {},
   "outputs": [],
   "source": [
    "def make_choropleth(input_df, input_id, input_column, input_color_theme):\n",
    "    choropleth = px.choropleth(input_df, locations=input_id, color=input_column, locationmode=\"USA-states\",\n",
    "                               color_continuous_scale=input_color_theme,\n",
    "                               range_color=(0, max(df_selected_year.population)),\n",
    "                               scope=\"usa\",\n",
    "                               labels={'population':'Population'}\n",
    "                              )\n",
    "    choropleth.update_layout(\n",
    "        template='plotly_dark',\n",
    "        plot_bgcolor='rgba(0, 0, 0, 0)',\n",
    "        paper_bgcolor='rgba(0, 0, 0, 0)',\n",
    "        margin=dict(l=0, r=0, t=0, b=0),\n",
    "        height=350\n",
    "    )\n",
    "    return choropleth"
   ]
  },
  {
   "cell_type": "code",
   "execution_count": 11,
   "metadata": {},
   "outputs": [],
   "source": [
    "def calculate_population_difference(input_df, input_year):\n",
    "  selected_year_data = input_df[input_df['year'] == input_year].reset_index()\n",
    "  previous_year_data = input_df[input_df['year'] == input_year - 1].reset_index()\n",
    "  selected_year_data['population_difference'] = selected_year_data.population.sub(previous_year_data.population, fill_value=0)\n",
    "  return pd.concat([selected_year_data.states, selected_year_data.id, selected_year_data.population, selected_year_data.population_difference], axis=1).sort_values(by=\"population_difference\", ascending=False)"
   ]
  },
  {
   "cell_type": "code",
   "execution_count": 12,
   "metadata": {},
   "outputs": [],
   "source": [
    "def make_donut(input_response, input_text, input_color):\n",
    "  if input_color == 'blue':\n",
    "      chart_color = ['#29b5e8', '#155F7A']\n",
    "  if input_color == 'green':\n",
    "      chart_color = ['#27AE60', '#12783D']\n",
    "  if input_color == 'orange':\n",
    "      chart_color = ['#F39C12', '#875A12']\n",
    "  if input_color == 'red':\n",
    "      chart_color = ['#E74C3C', '#781F16']\n",
    "    \n",
    "  source = pd.DataFrame({\n",
    "      \"Topic\": ['', input_text],\n",
    "      \"% value\": [100-input_response, input_response]\n",
    "  })\n",
    "  source_bg = pd.DataFrame({\n",
    "      \"Topic\": ['', input_text],\n",
    "      \"% value\": [100, 0]\n",
    "  })\n",
    "    \n",
    "  plot = alt.Chart(source).mark_arc(innerRadius=45, cornerRadius=25).encode(\n",
    "      theta=\"% value\",\n",
    "      color= alt.Color(\"Topic:N\",\n",
    "                      scale=alt.Scale(\n",
    "                          #domain=['A', 'B'],\n",
    "                          domain=[input_text, ''],\n",
    "                          # range=['#29b5e8', '#155F7A']),  # 31333F\n",
    "                          range=chart_color),\n",
    "                      legend=None),\n",
    "  ).properties(width=130, height=130)\n",
    "    \n",
    "  text = plot.mark_text(align='center', color=\"#29b5e8\", font=\"Lato\", fontSize=32, fontWeight=700, fontStyle=\"italic\").encode(text=alt.value(f'{input_response} %'))\n",
    "  plot_bg = alt.Chart(source_bg).mark_arc(innerRadius=45, cornerRadius=20).encode(\n",
    "      theta=\"% value\",\n",
    "      color= alt.Color(\"Topic:N\",\n",
    "                      scale=alt.Scale(\n",
    "                          # domain=['A', 'B'],\n",
    "                          domain=[input_text, ''],\n",
    "                          range=chart_color),  # 31333F\n",
    "                      legend=None),\n",
    "  ).properties(width=130, height=130)\n",
    "  return plot_bg + plot + text\n",
    "\n",
    "\n",
    "\n",
    "\n"
   ]
  },
  {
   "cell_type": "code",
   "execution_count": 13,
   "metadata": {},
   "outputs": [],
   "source": [
    "def format_number(num):\n",
    "    if num > 1000000:\n",
    "        if not num % 1000000:\n",
    "            return f'{num // 1000000} M'\n",
    "        return f'{round(num / 1000000, 1)} M'\n",
    "    return f'{num // 1000} K'"
   ]
  },
  {
   "cell_type": "code",
   "execution_count": 14,
   "metadata": {},
   "outputs": [],
   "source": [
    "col = st.columns((1.5, 4.5, 2), gap='medium')\n"
   ]
  },
  {
   "cell_type": "code",
   "execution_count": 15,
   "metadata": {},
   "outputs": [],
   "source": [
    "with col[0]:\n",
    "    st.markdown('#### Gains/Losses')\n",
    "\n",
    "    df_population_difference_sorted = calculate_population_difference(df_reshaped, selected_year)\n",
    "\n",
    "    if selected_year > 2010:\n",
    "        first_state_name = df_population_difference_sorted.states.iloc[0]\n",
    "        first_state_population = format_number(df_population_difference_sorted.population.iloc[0])\n",
    "        first_state_delta = format_number(df_population_difference_sorted.population_difference.iloc[0])\n",
    "    else:\n",
    "        first_state_name = '-'\n",
    "        first_state_population = '-'\n",
    "        first_state_delta = ''\n",
    "    st.metric(label=first_state_name, value=first_state_population, delta=first_state_delta)\n",
    "\n",
    "    if selected_year > 2010:\n",
    "        last_state_name = df_population_difference_sorted.states.iloc[-1]\n",
    "        last_state_population = format_number(df_population_difference_sorted.population.iloc[-1])   \n",
    "        last_state_delta = format_number(df_population_difference_sorted.population_difference.iloc[-1])   \n",
    "    else:\n",
    "        last_state_name = '-'\n",
    "        last_state_population = '-'\n",
    "        last_state_delta = ''\n",
    "    st.metric(label=last_state_name, value=last_state_population, delta=last_state_delta)\n",
    "\n",
    "    \n",
    "    st.markdown('#### States Migration')\n",
    "\n",
    "    if selected_year > 2010:\n",
    "        # Filter states with population difference > 50000\n",
    "        # df_greater_50000 = df_population_difference_sorted[df_population_difference_sorted.population_difference_absolute > 50000]\n",
    "        df_greater_50000 = df_population_difference_sorted[df_population_difference_sorted.population_difference > 50000]\n",
    "        df_less_50000 = df_population_difference_sorted[df_population_difference_sorted.population_difference < -50000]\n",
    "        \n",
    "        # % of States with population difference > 50000\n",
    "        states_migration_greater = round((len(df_greater_50000)/df_population_difference_sorted.states.nunique())*100)\n",
    "        states_migration_less = round((len(df_less_50000)/df_population_difference_sorted.states.nunique())*100)\n",
    "        donut_chart_greater = make_donut(states_migration_greater, 'Inbound Migration', 'green')\n",
    "        donut_chart_less = make_donut(states_migration_less, 'Outbound Migration', 'red')\n",
    "    else:\n",
    "        states_migration_greater = 0\n",
    "        states_migration_less = 0\n",
    "        donut_chart_greater = make_donut(states_migration_greater, 'Inbound Migration', 'green')\n",
    "        donut_chart_less = make_donut(states_migration_less, 'Outbound Migration', 'red')\n",
    "\n",
    "    migrations_col = st.columns((0.2, 1, 0.2))\n",
    "    with migrations_col[1]:\n",
    "        st.write('Inbound')\n",
    "        st.altair_chart(donut_chart_greater)\n",
    "        st.write('Outbound')\n",
    "        st.altair_chart(donut_chart_less)"
   ]
  },
  {
   "cell_type": "code",
   "execution_count": 16,
   "metadata": {},
   "outputs": [],
   "source": [
    "with col[1]:\n",
    "    st.markdown('#### Total Population')\n",
    "    \n",
    "    choropleth = make_choropleth(df_selected_year, 'states_code', 'population', selected_color_theme)\n",
    "    st.plotly_chart(choropleth, use_container_width=True)\n",
    "    \n",
    "    heatmap = make_heatmap(df_reshaped, 'year', 'states', 'population', selected_color_theme)\n",
    "    st.altair_chart(heatmap, use_container_width=True)"
   ]
  },
  {
   "cell_type": "code",
   "execution_count": 17,
   "metadata": {},
   "outputs": [],
   "source": [
    "with col[2]:\n",
    "    st.markdown('#### Top States')\n",
    "\n",
    "    st.dataframe(df_selected_year_sorted,\n",
    "                 column_order=(\"states\", \"population\"),\n",
    "                 hide_index=True,\n",
    "                 width=None,\n",
    "                 column_config={\n",
    "                    \"states\": st.column_config.TextColumn(\n",
    "                        \"States\",\n",
    "                    ),\n",
    "                    \"population\": st.column_config.ProgressColumn(\n",
    "                        \"Population\",\n",
    "                        format=\"%f\",\n",
    "                        min_value=0,\n",
    "                        max_value=max(df_selected_year_sorted.population),\n",
    "                     )}\n",
    "                 )\n",
    "    \n",
    "    with st.expander('About', expanded=True):\n",
    "        st.write('''\n",
    "            - Data: [U.S. Census Bureau](<https://www.census.gov/data/datasets/time-series/demo/popest/2010s-state-total.html>).\n",
    "            - :orange[**Gains/Losses**]: states with high inbound/ outbound migration for selected year\n",
    "            - :orange[**States Migration**]: percentage of states with annual inbound/ outbound migration > 50,000\n",
    "            ''')"
   ]
  },
  {
   "cell_type": "code",
   "execution_count": null,
   "metadata": {},
   "outputs": [],
   "source": []
  }
 ],
 "metadata": {
  "kernelspec": {
   "display_name": "Python 3",
   "language": "python",
   "name": "python3"
  },
  "language_info": {
   "codemirror_mode": {
    "name": "ipython",
    "version": 3
   },
   "file_extension": ".py",
   "mimetype": "text/x-python",
   "name": "python",
   "nbconvert_exporter": "python",
   "pygments_lexer": "ipython3",
   "version": "3.11.2"
  }
 },
 "nbformat": 4,
 "nbformat_minor": 2
}
